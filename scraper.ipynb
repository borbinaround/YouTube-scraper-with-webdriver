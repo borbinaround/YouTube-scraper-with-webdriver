{
 "cells": [
  {
   "cell_type": "code",
   "execution_count": null,
   "source": [
    "from selenium import webdriver\r\n",
    "import pandas as pd\r\n",
    "from selenium.webdriver.common.by import By\r\n",
    "from selenium.webdriver.support.ui import WebDriverWait\r\n",
    "from selenium.webdriver.support import expected_conditions as EC"
   ],
   "outputs": [],
   "metadata": {}
  },
  {
   "cell_type": "code",
   "execution_count": null,
   "source": [
    "driver = webdriver.Chrome() \r\n",
    "#go on YouTube and search for desired query\r\n",
    "driver.get(\"https://www.youtube.com/results?search_query=Math&sp=EgIQAQ%253D%253D\")"
   ],
   "outputs": [],
   "metadata": {}
  },
  {
   "cell_type": "code",
   "execution_count": null,
   "source": [
    "#appends all youtube links from query to links array\r\n",
    "#for more results, scroll down with the browser opened from driver and then run\r\n",
    "user_data = driver.find_elements_by_xpath('//*[@id=\"video-title\"]')\r\n",
    "links = []\r\n",
    "for i in user_data:\r\n",
    "    links.append(i.get_attribute(\"href\"))\r\n",
    "\r\n",
    "print(len(links))"
   ],
   "outputs": [],
   "metadata": {}
  },
  {
   "cell_type": "code",
   "execution_count": null,
   "source": [
    "df_math = pd.DataFrame(columns = ['link', 'title', 'description', 'category'])"
   ],
   "outputs": [],
   "metadata": {}
  },
  {
   "cell_type": "code",
   "execution_count": null,
   "source": [
    "wait = WebDriverWait(driver, 10)\r\n",
    "v_category = \"math\"\r\n",
    "\r\n",
    "for x in links:\r\n",
    "    if isinstance(x, str):\r\n",
    "        #grabs the link\r\n",
    "        driver.get(x)\r\n",
    "        #strips the end of url\r\n",
    "        v_id = x.strip('https://www.youtube.com/watch?v=')\r\n",
    "        #grabs title\r\n",
    "        v_title = wait.until(EC.presence_of_element_located((By.CSS_SELECTOR,\"h1.title yt-formatted-string\"))).text\r\n",
    "        #grabs descrption (doesn't seem to work at the moment)\r\n",
    "        v_description = wait.until(EC.presence_of_element_located((By.CSS_SELECTOR,\"div#description yt-formatted-string\"))).text\r\n",
    "        #adds it to the dataframe \r\n",
    "        df_math.loc[len(df_math)] = [v_id, v_title, v_description, v_category]"
   ],
   "outputs": [],
   "metadata": {}
  },
  {
   "cell_type": "code",
   "execution_count": null,
   "source": [
    "print(df_math.to_string())"
   ],
   "outputs": [],
   "metadata": {}
  }
 ],
 "metadata": {
  "orig_nbformat": 4,
  "language_info": {
   "name": "python"
  }
 },
 "nbformat": 4,
 "nbformat_minor": 2
}
